{
  "nbformat": 4,
  "nbformat_minor": 0,
  "metadata": {
    "colab": {
      "name": "lab 8.ipynb",
      "provenance": [],
      "authorship_tag": "ABX9TyPsNXFVYcB0yfAyeGn5wz8f",
      "include_colab_link": true
    },
    "kernelspec": {
      "name": "python3",
      "display_name": "Python 3"
    }
  },
  "cells": [
    {
      "cell_type": "markdown",
      "metadata": {
        "id": "view-in-github",
        "colab_type": "text"
      },
      "source": [
        "<a href=\"https://colab.research.google.com/github/far156/python-/blob/master/lab_8.ipynb\" target=\"_parent\"><img src=\"https://colab.research.google.com/assets/colab-badge.svg\" alt=\"Open In Colab\"/></a>"
      ]
    },
    {
      "cell_type": "code",
      "metadata": {
        "id": "iwHwqyKzUyvG"
      },
      "source": [
        "create base class"
      ],
      "execution_count": null,
      "outputs": []
    },
    {
      "cell_type": "code",
      "metadata": {
        "id": "Z3VN8wXiU_9R"
      },
      "source": [
        "#create base calss \n",
        "class Ball():\n",
        "  def __init__(self):\n",
        "    print(f'Ball created!')\n",
        "  \n",
        "  def who_am_i(self):\n",
        "    print(f'i am ball')"
      ],
      "execution_count": null,
      "outputs": []
    },
    {
      "cell_type": "code",
      "metadata": {
        "id": "Wrlfr69lY_6I"
      },
      "source": [
        "#create a Child(football) class\n",
        "\n",
        "class Football(Ball):\n",
        "  def __init__(self):\n",
        "    #create instances of Ball\n",
        "    Ball.__init__(self)\n",
        "    print(f'football created!')\n",
        "  "
      ],
      "execution_count": null,
      "outputs": []
    },
    {
      "cell_type": "markdown",
      "metadata": {
        "id": "tSCZBiZCawi9"
      },
      "source": [
        "object create"
      ]
    },
    {
      "cell_type": "code",
      "metadata": {
        "id": "NCtmD7yzazMQ"
      },
      "source": [
        ""
      ],
      "execution_count": null,
      "outputs": []
    },
    {
      "cell_type": "code",
      "metadata": {
        "colab": {
          "base_uri": "https://localhost:8080/"
        },
        "id": "PlVDwW3-azLM",
        "outputId": "2b17ec0d-a658-4d38-866a-7f8b1b710e61"
      },
      "source": [
        "#create object\n",
        "myFootball = Football()"
      ],
      "execution_count": null,
      "outputs": [
        {
          "output_type": "stream",
          "text": [
            "Ball created!\n",
            "football created!\n"
          ],
          "name": "stdout"
        }
      ]
    },
    {
      "cell_type": "markdown",
      "metadata": {
        "id": "p-WPBkSGbu7N"
      },
      "source": [
        "overridding"
      ]
    },
    {
      "cell_type": "code",
      "metadata": {
        "id": "nICslGyhbxla"
      },
      "source": [
        "#create base calss \n",
        "class Football (Ball):\n",
        "  def __init__(self):\n",
        "    #create instances of Ball\n",
        "\n",
        "    print(f'Ball created!')\n",
        "    Ball.__init__(self)\n",
        "    print(f'football created!')\n",
        "  #overide base class method\n",
        "  def who_am_i(self):\n",
        "    print(f'i am football!')\n",
        "  "
      ],
      "execution_count": null,
      "outputs": []
    },
    {
      "cell_type": "markdown",
      "metadata": {
        "id": "oo7LB8fNfL6l"
      },
      "source": [
        "create object with override"
      ]
    },
    {
      "cell_type": "code",
      "metadata": {
        "colab": {
          "base_uri": "https://localhost:8080/"
        },
        "id": "OYwXu9PbfQgN",
        "outputId": "9979c599-59f4-4279-e5b3-db3504d93e17"
      },
      "source": [
        "#create object\n",
        "myFootball = Football()\n",
        "#call overide method\n",
        "myFootball.who_am_i()"
      ],
      "execution_count": null,
      "outputs": [
        {
          "output_type": "stream",
          "text": [
            "Ball created!\n",
            "Ball created!\n",
            "football created!\n",
            "i am football!\n"
          ],
          "name": "stdout"
        }
      ]
    },
    {
      "cell_type": "markdown",
      "metadata": {
        "id": "2cPug1fTgFlI"
      },
      "source": [
        "add new method in overridding"
      ]
    },
    {
      "cell_type": "code",
      "metadata": {
        "id": "J-lYDQUDgKpH"
      },
      "source": [
        "#overriding\n",
        "class Football(Ball):\n",
        "  def __init__(self):\n",
        "    #create instances of Ball\n",
        "    Ball.__init__(self)\n",
        "    print(f'football created!')\n",
        "  #overide base class method\n",
        "  def who_am_i(self):\n",
        "    print(f'i am football!')\n",
        "  #new method\n",
        "  def play(self):\n",
        "    print(f'hey! i am ready for play!')"
      ],
      "execution_count": null,
      "outputs": []
    },
    {
      "cell_type": "markdown",
      "metadata": {
        "id": "mjgrxR7mh528"
      },
      "source": [
        "object with new method"
      ]
    },
    {
      "cell_type": "code",
      "metadata": {
        "id": "evTkinfNY_5S"
      },
      "source": [
        "#create object\n",
        "myFootball = Football()\n",
        "#call new method\n",
        "myFootball.play()"
      ],
      "execution_count": null,
      "outputs": []
    },
    {
      "cell_type": "code",
      "metadata": {
        "id": "gdLPbK8VY_3j"
      },
      "source": [
        ""
      ],
      "execution_count": null,
      "outputs": []
    },
    {
      "cell_type": "code",
      "metadata": {
        "id": "l0v7nXqcU_8T"
      },
      "source": [
        ""
      ],
      "execution_count": null,
      "outputs": []
    },
    {
      "cell_type": "markdown",
      "metadata": {
        "id": "cWkUoCSZU8Ab"
      },
      "source": [
        ""
      ]
    },
    {
      "cell_type": "markdown",
      "metadata": {
        "id": "1ASZJrSrU79D"
      },
      "source": [
        ""
      ]
    }
  ]
}