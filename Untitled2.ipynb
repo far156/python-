{
  "nbformat": 4,
  "nbformat_minor": 0,
  "metadata": {
    "colab": {
      "name": "Untitled2.ipynb",
      "provenance": [],
      "authorship_tag": "ABX9TyOi5m72T3Y6Qjd+H4mf6/eS",
      "include_colab_link": true
    },
    "kernelspec": {
      "name": "python3",
      "display_name": "Python 3"
    }
  },
  "cells": [
    {
      "cell_type": "markdown",
      "metadata": {
        "id": "view-in-github",
        "colab_type": "text"
      },
      "source": [
        "<a href=\"https://colab.research.google.com/github/far156/python-/blob/master/Untitled2.ipynb\" target=\"_parent\"><img src=\"https://colab.research.google.com/assets/colab-badge.svg\" alt=\"Open In Colab\"/></a>"
      ]
    },
    {
      "cell_type": "code",
      "metadata": {
        "id": "uDc94lPdzuMP",
        "outputId": "13d97758-f88f-49e8-e7a3-4a9b7e2596f1",
        "colab": {
          "base_uri": "https://localhost:8080/",
          "height": 68
        }
      },
      "source": [
        "a = int(input())\n",
        "b = int(input())\n",
        "x = a + b\n",
        "print(\"X = %i\"% x)"
      ],
      "execution_count": 12,
      "outputs": [
        {
          "output_type": "stream",
          "text": [
            "10\n",
            "9\n",
            "X = 19\n"
          ],
          "name": "stdout"
        }
      ]
    },
    {
      "cell_type": "code",
      "metadata": {
        "id": "qAdKNWtJ1jYD"
      },
      "source": [
        ""
      ],
      "execution_count": null,
      "outputs": []
    },
    {
      "cell_type": "markdown",
      "metadata": {
        "id": "XX6ZV4Z61mF_"
      },
      "source": [
        "area of circle"
      ]
    },
    {
      "cell_type": "markdown",
      "metadata": {
        "id": "p8ysWOP_1mEK"
      },
      "source": [
        ""
      ]
    },
    {
      "cell_type": "code",
      "metadata": {
        "id": "QupLGtl7zuNP",
        "outputId": "0d1a3f5a-fdd4-4b37-e2ac-40309af1bac4",
        "colab": {
          "base_uri": "https://localhost:8080/",
          "height": 51
        }
      },
      "source": [
        "raio = float(input())\n",
        "\n",
        "area = (raio * raio) * 3.14159 \n",
        "\n",
        "print(\"A=%0.4f\" %area)"
      ],
      "execution_count": 13,
      "outputs": [
        {
          "output_type": "stream",
          "text": [
            "4\n",
            "A=50.2654\n"
          ],
          "name": "stdout"
        }
      ]
    },
    {
      "cell_type": "markdown",
      "metadata": {
        "id": "6v771Tzo3kOU"
      },
      "source": [
        "Age in days"
      ]
    },
    {
      "cell_type": "code",
      "metadata": {
        "id": "6ayrPdLK3o9O",
        "outputId": "ef55c25d-f42c-4de5-a639-b9205e36eb97",
        "colab": {
          "base_uri": "https://localhost:8080/",
          "height": 85
        }
      },
      "source": [
        "n= int(input())\n",
        "a = n / 365\n",
        "rA = n % 365\n",
        "rM = rA % 30\n",
        "m = rA / 30\n",
        "d = rM % 30\n",
        "print(\"{} ano(s)\".format(int(a)))\n",
        "print(\"{} mes(es)\".format(int(m)))\n",
        "print(\"{} dia(s)\".format(int(d)))"
      ],
      "execution_count": 14,
      "outputs": [
        {
          "output_type": "stream",
          "text": [
            "400\n",
            "1 ano(s)\n",
            "1 mes(es)\n",
            "5 dia(s)\n"
          ],
          "name": "stdout"
        }
      ]
    }
  ]
}