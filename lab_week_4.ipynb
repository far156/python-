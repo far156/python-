{
  "nbformat": 4,
  "nbformat_minor": 0,
  "metadata": {
    "colab": {
      "name": "lab week:4",
      "provenance": [],
      "authorship_tag": "ABX9TyNBYCO5pjXIIsz+J7iob0Fc",
      "include_colab_link": true
    },
    "kernelspec": {
      "name": "python3",
      "display_name": "Python 3"
    }
  },
  "cells": [
    {
      "cell_type": "markdown",
      "metadata": {
        "id": "view-in-github",
        "colab_type": "text"
      },
      "source": [
        "<a href=\"https://colab.research.google.com/github/far156/python-/blob/master/lab_week_4.ipynb\" target=\"_parent\"><img src=\"https://colab.research.google.com/assets/colab-badge.svg\" alt=\"Open In Colab\"/></a>"
      ]
    },
    {
      "cell_type": "code",
      "metadata": {
        "id": "fM1k4lIn30f-"
      },
      "source": [
        ""
      ],
      "execution_count": null,
      "outputs": []
    },
    {
      "cell_type": "markdown",
      "metadata": {
        "id": "0OHB57aj3-KI"
      },
      "source": [
        "creating list"
      ]
    },
    {
      "cell_type": "code",
      "metadata": {
        "id": "tbqqsNKa4ChA",
        "outputId": "2b5cb83b-e4f5-4a91-ce86-5065072a8c35",
        "colab": {
          "base_uri": "https://localhost:8080/",
          "height": 68
        }
      },
      "source": [
        "#creating list\n",
        "lst0=[1,2 ,3,32,2,23,43,23,\"python\",[2,32,3]]\n",
        "print (lst0)\n",
        "lst1=[]\n",
        "print(lst1)\n",
        "lst2=list()\n",
        "print(lst2)\n"
      ],
      "execution_count": null,
      "outputs": [
        {
          "output_type": "stream",
          "text": [
            "[1, 2, 3, 32, 2, 23, 43, 23, 'python', [2, 32, 3]]\n",
            "[]\n",
            "[]\n"
          ],
          "name": "stdout"
        }
      ]
    },
    {
      "cell_type": "code",
      "metadata": {
        "id": "8r3hfvws7CWr"
      },
      "source": [
        "lterating list"
      ],
      "execution_count": null,
      "outputs": []
    },
    {
      "cell_type": "code",
      "metadata": {
        "id": "skddNXjj7MUt",
        "outputId": "1761af12-f050-4406-a356-91857a37d808",
        "colab": {
          "base_uri": "https://localhost:8080/",
          "height": 187
        }
      },
      "source": [
        "#iterating list\n",
        "lst0=[1,2 ,3,32,2,23,43,23,\"python\",[2,32,3]]\n",
        "for i in lst0:\n",
        "  print(i,end='')\n",
        "  print('')\n",
        "\n"
      ],
      "execution_count": null,
      "outputs": [
        {
          "output_type": "stream",
          "text": [
            "1\n",
            "2\n",
            "3\n",
            "32\n",
            "2\n",
            "23\n",
            "43\n",
            "23\n",
            "python\n",
            "[2, 32, 3]\n"
          ],
          "name": "stdout"
        }
      ]
    },
    {
      "cell_type": "markdown",
      "metadata": {
        "id": "D8tfU-gk868r"
      },
      "source": [
        "list operations"
      ]
    },
    {
      "cell_type": "code",
      "metadata": {
        "id": "OkIdNfGr89oX",
        "outputId": "4d240307-4fb9-4dcd-f082-944cd2160307",
        "colab": {
          "base_uri": "https://localhost:8080/",
          "height": 102
        }
      },
      "source": [
        "#list operations\n",
        "lst0=[1,2 ,3,32,2,23,43,23,\"python\",[2,32,3]]\n",
        "print(len(lst0))\n",
        "lst0.append([12,2,12,2])\n",
        "print(lst0)\n",
        "lst0.insert(2,\"pandas\")\n",
        "print(lst0)\n",
        "lst0.remove(3)\n",
        "print(lst0)\n",
        "print(lst0.index(\"python\"))"
      ],
      "execution_count": null,
      "outputs": [
        {
          "output_type": "stream",
          "text": [
            "10\n",
            "[1, 2, 3, 32, 2, 23, 43, 23, 'python', [2, 32, 3], [12, 2, 12, 2]]\n",
            "[1, 2, 'pandas', 3, 32, 2, 23, 43, 23, 'python', [2, 32, 3], [12, 2, 12, 2]]\n",
            "[1, 2, 'pandas', 32, 2, 23, 43, 23, 'python', [2, 32, 3], [12, 2, 12, 2]]\n",
            "8\n"
          ],
          "name": "stdout"
        }
      ]
    },
    {
      "cell_type": "code",
      "metadata": {
        "id": "sDNGpSpTBPf0"
      },
      "source": [
        ""
      ],
      "execution_count": null,
      "outputs": []
    },
    {
      "cell_type": "code",
      "metadata": {
        "id": "X2q7y4c189m6",
        "outputId": "5793ab13-abf6-4b36-a2d2-bf6311b61cf1",
        "colab": {
          "base_uri": "https://localhost:8080/",
          "height": 129
        }
      },
      "source": [
        "#list operations\n",
        "lst0=[1,2 ,3,32,2,23,43,23,\"python\",[2,32,3]]\n",
        "print(lst0.count(\"pandas\")\n",
        "\n",
        "print(lst0 .reverse())\n",
        "\n",
        "lst1=lst0.copy()\n",
        "print(lst1)\n",
        "lst0.clear()\n",
        "\n",
        "print(lst0)"
      ],
      "execution_count": null,
      "outputs": [
        {
          "output_type": "error",
          "ename": "SyntaxError",
          "evalue": "ignored",
          "traceback": [
            "\u001b[0;36m  File \u001b[0;32m\"<ipython-input-25-da6e0f4b3aef>\"\u001b[0;36m, line \u001b[0;32m5\u001b[0m\n\u001b[0;31m    print(lst0 .reverse())\u001b[0m\n\u001b[0m        ^\u001b[0m\n\u001b[0;31mSyntaxError\u001b[0m\u001b[0;31m:\u001b[0m invalid syntax\n"
          ]
        }
      ]
    },
    {
      "cell_type": "markdown",
      "metadata": {
        "id": "4rb1AtkDEV7p"
      },
      "source": [
        "list slicing"
      ]
    },
    {
      "cell_type": "code",
      "metadata": {
        "id": "PVCgJVlLEdKC",
        "outputId": "8be1d420-88f6-43b0-ba9a-71ac22bc2732",
        "colab": {
          "base_uri": "https://localhost:8080/",
          "height": 85
        }
      },
      "source": [
        "#list slicing\n",
        "lst0=[1,2 ,3,32,2,23,43,23,\"python\",[2,32,3]]\n",
        "print(lst0[2:7])\n",
        "\n",
        "print(lst0[2:1])\n",
        "print(lst0[:5])\n",
        "print(lst0[:1])"
      ],
      "execution_count": null,
      "outputs": [
        {
          "output_type": "stream",
          "text": [
            "[3, 32, 2, 23, 43]\n",
            "[]\n",
            "[1, 2, 3, 32, 2]\n",
            "[1]\n"
          ],
          "name": "stdout"
        }
      ]
    },
    {
      "cell_type": "markdown",
      "metadata": {
        "id": "imG5xxm2EV4Q"
      },
      "source": [
        "list shorting"
      ]
    },
    {
      "cell_type": "code",
      "metadata": {
        "id": "FWQRncMEGzjs",
        "outputId": "3ea03ae3-9675-41f4-d917-5a0025bf8e88",
        "colab": {
          "base_uri": "https://localhost:8080/",
          "height": 68
        }
      },
      "source": [
        "#list sorting\n",
        "lst2=[1,2,4,2,4,2,5,6,7,4]\n",
        "lst3=sorted(lst2)\n",
        "\n",
        "\n",
        "print(lst3)\n",
        "\n",
        "print(lst2)\n",
        "lst2.sort()\n",
        "print(lst2)"
      ],
      "execution_count": null,
      "outputs": [
        {
          "output_type": "stream",
          "text": [
            "[1, 2, 2, 2, 4, 4, 4, 5, 6, 7]\n",
            "[1, 2, 4, 2, 4, 2, 5, 6, 7, 4]\n",
            "[1, 2, 2, 2, 4, 4, 4, 5, 6, 7]\n"
          ],
          "name": "stdout"
        }
      ]
    },
    {
      "cell_type": "markdown",
      "metadata": {
        "id": "IFxlExAo8659"
      },
      "source": [
        "creating tuple"
      ]
    },
    {
      "cell_type": "code",
      "metadata": {
        "id": "SSfQTX-5I_VN",
        "outputId": "e756556f-010b-45fa-8064-9c11d85a6dc8",
        "colab": {
          "base_uri": "https://localhost:8080/",
          "height": 68
        }
      },
      "source": [
        "#creating tuple\n",
        "tp0=[1,2 ,3,32,2,23,43,23,\"python\",[2,32,3]]\n",
        "print(tp0)\n",
        "tp1=[]\n",
        "print(tp1)\n",
        "tp2=tuple()\n",
        "print(tp2)"
      ],
      "execution_count": null,
      "outputs": [
        {
          "output_type": "stream",
          "text": [
            "[1, 2, 3, 32, 2, 23, 43, 23, 'python', [2, 32, 3]]\n",
            "[]\n",
            "()\n"
          ],
          "name": "stdout"
        }
      ]
    },
    {
      "cell_type": "code",
      "metadata": {
        "id": "MyttS7wrI_TK"
      },
      "source": [
        ""
      ],
      "execution_count": null,
      "outputs": []
    },
    {
      "cell_type": "markdown",
      "metadata": {
        "id": "c-n9cvXHL4XK"
      },
      "source": [
        "iterating tuple"
      ]
    },
    {
      "cell_type": "code",
      "metadata": {
        "id": "yRVrvrsNL8LW",
        "outputId": "2ad73b85-aae1-468b-9e70-a87b5ecce1e0",
        "colab": {
          "base_uri": "https://localhost:8080/",
          "height": 187
        }
      },
      "source": [
        "#iterating tuple\n",
        "tp0=[1,2 ,3,32,2,23,43,23,\"python\",[2,32,3]]\n",
        "for i in tp0:\n",
        "  print(i,end='')\n",
        "  print('')"
      ],
      "execution_count": null,
      "outputs": [
        {
          "output_type": "stream",
          "text": [
            "1\n",
            "2\n",
            "3\n",
            "32\n",
            "2\n",
            "23\n",
            "43\n",
            "23\n",
            "python\n",
            "[2, 32, 3]\n"
          ],
          "name": "stdout"
        }
      ]
    },
    {
      "cell_type": "markdown",
      "metadata": {
        "id": "XyAxgw34M7tt"
      },
      "source": [
        "inserting tuple"
      ]
    },
    {
      "cell_type": "code",
      "metadata": {
        "id": "v4crs8NUM-vo",
        "outputId": "679beb7a-c399-48c9-904b-07cffedd2978",
        "colab": {
          "base_uri": "https://localhost:8080/",
          "height": 34
        }
      },
      "source": [
        "#inseting into tuple\n",
        "tp0=[1,2 ,3,32,2,23,43,23,\"python\",[2,32,3]]\n",
        "tp0+=(\"pandas\",232,3,232,3)\n",
        "print(tp0)\n"
      ],
      "execution_count": null,
      "outputs": [
        {
          "output_type": "stream",
          "text": [
            "[1, 2, 3, 32, 2, 23, 43, 23, 'python', [2, 32, 3], 'pandas', 232, 3, 232, 3]\n"
          ],
          "name": "stdout"
        }
      ]
    },
    {
      "cell_type": "markdown",
      "metadata": {
        "id": "I9uQwHmZP0nB"
      },
      "source": [
        "unpacking sequence"
      ]
    },
    {
      "cell_type": "code",
      "metadata": {
        "id": "8Fr7TkphP5Ma",
        "outputId": "5e26f0fb-d83d-423b-b870-37074637c4f6",
        "colab": {
          "base_uri": "https://localhost:8080/",
          "height": 129
        }
      },
      "source": [
        "#unpacking sequences\n",
        "lst([2,3,423,43]\n",
        "a,b,c,d=lst\n",
        "    print(a)\n",
        "    print(b)\n",
        "    print(callable)\n",
        "    print(d)"
      ],
      "execution_count": 52,
      "outputs": [
        {
          "output_type": "error",
          "ename": "SyntaxError",
          "evalue": "ignored",
          "traceback": [
            "\u001b[0;36m  File \u001b[0;32m\"<ipython-input-52-ebe70e170e1e>\"\u001b[0;36m, line \u001b[0;32m3\u001b[0m\n\u001b[0;31m    a,b,c,d=lst\u001b[0m\n\u001b[0m    ^\u001b[0m\n\u001b[0;31mSyntaxError\u001b[0m\u001b[0;31m:\u001b[0m invalid syntax\n"
          ]
        }
      ]
    },
    {
      "cell_type": "code",
      "metadata": {
        "id": "lF3eWYniSA6D",
        "outputId": "c7af4446-4298-4c86-ef98-26ec8c32af1b",
        "colab": {
          "base_uri": "https://localhost:8080/",
          "height": 129
        }
      },
      "source": [
        "#unpacking sequences\n",
        "tp([2,3,423,43]\n",
        "   \n",
        "    print(a)\n",
        "    print(b)\n",
        "    print(c)\n",
        "    print(d)"
      ],
      "execution_count": null,
      "outputs": [
        {
          "output_type": "error",
          "ename": "SyntaxError",
          "evalue": "ignored",
          "traceback": [
            "\u001b[0;36m  File \u001b[0;32m\"<ipython-input-45-eeb9786dd89c>\"\u001b[0;36m, line \u001b[0;32m3\u001b[0m\n\u001b[0;31m    print(a)\u001b[0m\n\u001b[0m        ^\u001b[0m\n\u001b[0;31mSyntaxError\u001b[0m\u001b[0;31m:\u001b[0m invalid syntax\n"
          ]
        }
      ]
    },
    {
      "cell_type": "code",
      "metadata": {
        "id": "xydDh5-lTDgV"
      },
      "source": [
        ""
      ],
      "execution_count": null,
      "outputs": []
    },
    {
      "cell_type": "code",
      "metadata": {
        "id": "U1pDp8mbSA3_"
      },
      "source": [
        ""
      ],
      "execution_count": 47,
      "outputs": []
    },
    {
      "cell_type": "markdown",
      "metadata": {
        "id": "FogI2MRfP0ia"
      },
      "source": [
        "# New section"
      ]
    }
  ]
}