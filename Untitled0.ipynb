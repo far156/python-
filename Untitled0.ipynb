{
  "nbformat": 4,
  "nbformat_minor": 0,
  "metadata": {
    "colab": {
      "name": "Untitled0.ipynb",
      "provenance": [],
      "authorship_tag": "ABX9TyNKQI/fq5TQxfJM0Fxj/Dxg",
      "include_colab_link": true
    },
    "kernelspec": {
      "name": "python3",
      "display_name": "Python 3"
    }
  },
  "cells": [
    {
      "cell_type": "markdown",
      "metadata": {
        "id": "view-in-github",
        "colab_type": "text"
      },
      "source": [
        "<a href=\"https://colab.research.google.com/github/far156/python-/blob/master/Untitled0.ipynb\" target=\"_parent\"><img src=\"https://colab.research.google.com/assets/colab-badge.svg\" alt=\"Open In Colab\"/></a>"
      ]
    },
    {
      "cell_type": "code",
      "metadata": {
        "id": "pBbXfaxhzUj_"
      },
      "source": [
        ""
      ],
      "execution_count": null,
      "outputs": []
    },
    {
      "cell_type": "markdown",
      "metadata": {
        "id": "A-yvW5fAFyDT"
      },
      "source": [
        "first"
      ]
    },
    {
      "cell_type": "code",
      "metadata": {
        "id": "xpFnuIl3F5ZR",
        "outputId": "52f358d1-5f12-45f0-a589-aae11c18f685",
        "colab": {
          "base_uri": "https://localhost:8080/",
          "height": 34
        }
      },
      "source": [
        "print(\"hellow world\")"
      ],
      "execution_count": 1,
      "outputs": [
        {
          "output_type": "stream",
          "text": [
            "hellow world\n"
          ],
          "name": "stdout"
        }
      ]
    },
    {
      "cell_type": "markdown",
      "metadata": {
        "id": "4qgG5Z-oGsBs"
      },
      "source": [
        "variable and statement "
      ]
    },
    {
      "cell_type": "code",
      "metadata": {
        "id": "HmXr9estHEma",
        "outputId": "99cf1989-5ecf-4d69-eea2-980e4e8258c6",
        "colab": {
          "base_uri": "https://localhost:8080/",
          "height": 34
        }
      },
      "source": [
        "x=7\n",
        "y=3\n",
        "print(x+y)"
      ],
      "execution_count": 2,
      "outputs": [
        {
          "output_type": "stream",
          "text": [
            "10\n"
          ],
          "name": "stdout"
        }
      ]
    },
    {
      "cell_type": "code",
      "metadata": {
        "id": "9JR6FViQHEku",
        "outputId": "ea27d851-bf7a-4a0b-d4f0-0184671c59d4",
        "colab": {
          "base_uri": "https://localhost:8080/",
          "height": 34
        }
      },
      "source": [
        "total=x+y\n",
        "print(total)"
      ],
      "execution_count": 3,
      "outputs": [
        {
          "output_type": "stream",
          "text": [
            "10\n"
          ],
          "name": "stdout"
        }
      ]
    },
    {
      "cell_type": "code",
      "metadata": {
        "id": "7uN32zP3ImV2"
      },
      "source": [
        "name= \"Farzana\"\n",
        "name2= \"Eiti\""
      ],
      "execution_count": 9,
      "outputs": []
    },
    {
      "cell_type": "markdown",
      "metadata": {
        "id": "yzmXHzaFJZG_"
      },
      "source": [
        "types"
      ]
    },
    {
      "cell_type": "code",
      "metadata": {
        "id": "zYpttfG1JcQf",
        "outputId": "b47498f3-790e-4f33-b0f8-c3437c3662ba",
        "colab": {
          "base_uri": "https://localhost:8080/",
          "height": 34
        }
      },
      "source": [
        "x=10\n",
        "type(x)"
      ],
      "execution_count": 10,
      "outputs": [
        {
          "output_type": "execute_result",
          "data": {
            "text/plain": [
              "int"
            ]
          },
          "metadata": {
            "tags": []
          },
          "execution_count": 10
        }
      ]
    },
    {
      "cell_type": "code",
      "metadata": {
        "id": "oyR3R1yNJcPH",
        "outputId": "92727839-f100-473d-e225-fc2c703e2d92",
        "colab": {
          "base_uri": "https://localhost:8080/",
          "height": 34
        }
      },
      "source": [
        "type(100.5)"
      ],
      "execution_count": 11,
      "outputs": [
        {
          "output_type": "execute_result",
          "data": {
            "text/plain": [
              "float"
            ]
          },
          "metadata": {
            "tags": []
          },
          "execution_count": 11
        }
      ]
    },
    {
      "cell_type": "code",
      "metadata": {
        "id": "UWN2XKQ8J891",
        "outputId": "e6478451-1325-4dc9-f149-cf81df510c53",
        "colab": {
          "base_uri": "https://localhost:8080/",
          "height": 34
        }
      },
      "source": [
        "type(name)"
      ],
      "execution_count": 12,
      "outputs": [
        {
          "output_type": "execute_result",
          "data": {
            "text/plain": [
              "str"
            ]
          },
          "metadata": {
            "tags": []
          },
          "execution_count": 12
        }
      ]
    },
    {
      "cell_type": "markdown",
      "metadata": {
        "id": "YRuZtBfeKRxl"
      },
      "source": [
        "Arithmatic"
      ]
    },
    {
      "cell_type": "code",
      "metadata": {
        "id": "sZNlmWyoKXjQ",
        "outputId": "6c278341-d15b-4100-b15a-1138943238c4",
        "colab": {
          "base_uri": "https://localhost:8080/",
          "height": 34
        }
      },
      "source": [
        "multiplication=7*4\n",
        "print(multiplication)"
      ],
      "execution_count": 14,
      "outputs": [
        {
          "output_type": "stream",
          "text": [
            "28\n"
          ],
          "name": "stdout"
        }
      ]
    },
    {
      "cell_type": "code",
      "metadata": {
        "id": "VxKXh3xrKXiF",
        "outputId": "df3a02bf-0515-47c5-8009-b7dc165c3d52",
        "colab": {
          "base_uri": "https://localhost:8080/",
          "height": 34
        }
      },
      "source": [
        "add=10+20\n",
        "print(add)"
      ],
      "execution_count": 15,
      "outputs": [
        {
          "output_type": "stream",
          "text": [
            "30\n"
          ],
          "name": "stdout"
        }
      ]
    },
    {
      "cell_type": "code",
      "metadata": {
        "id": "-6MggvzYLYaM",
        "outputId": "a9f706e8-7892-48e1-cc98-54c379d7db7d",
        "colab": {
          "base_uri": "https://localhost:8080/",
          "height": 34
        }
      },
      "source": [
        "sub=10-5\n",
        "print(sub)"
      ],
      "execution_count": 16,
      "outputs": [
        {
          "output_type": "stream",
          "text": [
            "5\n"
          ],
          "name": "stdout"
        }
      ]
    },
    {
      "cell_type": "code",
      "metadata": {
        "id": "sFhJdm0iLYYP",
        "outputId": "efed34ba-1d21-47e3-928d-ad07e338b8f6",
        "colab": {
          "base_uri": "https://localhost:8080/",
          "height": 34
        }
      },
      "source": [
        "Exponentition=2**10\n",
        "print(Exponentition)"
      ],
      "execution_count": 17,
      "outputs": [
        {
          "output_type": "stream",
          "text": [
            "1024\n"
          ],
          "name": "stdout"
        }
      ]
    },
    {
      "cell_type": "code",
      "metadata": {
        "id": "vZV2xr6wJ88m"
      },
      "source": [
        ""
      ],
      "execution_count": null,
      "outputs": []
    },
    {
      "cell_type": "markdown",
      "metadata": {
        "id": "xzuF7YHPMRY_"
      },
      "source": [
        "true division vs floor division"
      ]
    },
    {
      "cell_type": "code",
      "metadata": {
        "id": "Qdc4n84SMaFY",
        "outputId": "1c5d1ab3-be86-4430-a126-e5b4a131af64",
        "colab": {
          "base_uri": "https://localhost:8080/",
          "height": 34
        }
      },
      "source": [
        "True_Division=7/4\n",
        "print(True_Division)"
      ],
      "execution_count": 20,
      "outputs": [
        {
          "output_type": "stream",
          "text": [
            "1.75\n"
          ],
          "name": "stdout"
        }
      ]
    },
    {
      "cell_type": "code",
      "metadata": {
        "id": "WnncFhmgMaD_",
        "outputId": "ee0bca97-8fc2-435c-c2ca-e3079cdc5668",
        "colab": {
          "base_uri": "https://localhost:8080/",
          "height": 34
        }
      },
      "source": [
        "Floor_Division=7//4\n",
        "print(Floor_Division)"
      ],
      "execution_count": 21,
      "outputs": [
        {
          "output_type": "stream",
          "text": [
            "1\n"
          ],
          "name": "stdout"
        }
      ]
    },
    {
      "cell_type": "code",
      "metadata": {
        "id": "7H7GVo88NWRx",
        "outputId": "e9d66758-dc03-425c-d5bf-8721f095048b",
        "colab": {
          "base_uri": "https://localhost:8080/",
          "height": 34
        }
      },
      "source": [
        "reminder=15%7\n",
        "print(reminder)"
      ],
      "execution_count": 22,
      "outputs": [
        {
          "output_type": "stream",
          "text": [
            "1\n"
          ],
          "name": "stdout"
        }
      ]
    },
    {
      "cell_type": "code",
      "metadata": {
        "id": "2qj0DnLGN5Qj"
      },
      "source": [
        "x=100\n",
        "y=30"
      ],
      "execution_count": 23,
      "outputs": []
    },
    {
      "cell_type": "code",
      "metadata": {
        "id": "rJPZlGtWOCwa",
        "outputId": "1486570f-6efe-4d58-e55c-86ecbb82e32c",
        "colab": {
          "base_uri": "https://localhost:8080/",
          "height": 34
        }
      },
      "source": [
        "x>y"
      ],
      "execution_count": 24,
      "outputs": [
        {
          "output_type": "execute_result",
          "data": {
            "text/plain": [
              "True"
            ]
          },
          "metadata": {
            "tags": []
          },
          "execution_count": 24
        }
      ]
    },
    {
      "cell_type": "code",
      "metadata": {
        "id": "0xRuclKAOG8j",
        "outputId": "996e44e0-292d-439b-ac03-463ed09bfaec",
        "colab": {
          "base_uri": "https://localhost:8080/",
          "height": 34
        }
      },
      "source": [
        "x<y"
      ],
      "execution_count": 25,
      "outputs": [
        {
          "output_type": "execute_result",
          "data": {
            "text/plain": [
              "False"
            ]
          },
          "metadata": {
            "tags": []
          },
          "execution_count": 25
        }
      ]
    },
    {
      "cell_type": "code",
      "metadata": {
        "id": "DEHmd7QeOJ6a",
        "outputId": "5caa8428-2331-4cec-9287-096585fd2781",
        "colab": {
          "base_uri": "https://localhost:8080/",
          "height": 34
        }
      },
      "source": [
        "x==y"
      ],
      "execution_count": 26,
      "outputs": [
        {
          "output_type": "execute_result",
          "data": {
            "text/plain": [
              "False"
            ]
          },
          "metadata": {
            "tags": []
          },
          "execution_count": 26
        }
      ]
    },
    {
      "cell_type": "code",
      "metadata": {
        "id": "1_a5o7BKOJ47",
        "outputId": "aa29a3d3-4891-4dc0-82b4-f1884e75cab3",
        "colab": {
          "base_uri": "https://localhost:8080/",
          "height": 34
        }
      },
      "source": [
        "x<=y"
      ],
      "execution_count": 27,
      "outputs": [
        {
          "output_type": "execute_result",
          "data": {
            "text/plain": [
              "False"
            ]
          },
          "metadata": {
            "tags": []
          },
          "execution_count": 27
        }
      ]
    },
    {
      "cell_type": "code",
      "metadata": {
        "id": "_mx50Z-xOsPT",
        "outputId": "41c190da-c93f-493b-f7d4-6625ac3ddba9",
        "colab": {
          "base_uri": "https://localhost:8080/",
          "height": 34
        }
      },
      "source": [
        "x>=y"
      ],
      "execution_count": 28,
      "outputs": [
        {
          "output_type": "execute_result",
          "data": {
            "text/plain": [
              "True"
            ]
          },
          "metadata": {
            "tags": []
          },
          "execution_count": 28
        }
      ]
    },
    {
      "cell_type": "markdown",
      "metadata": {
        "id": "DRS5qL6sPCoa"
      },
      "source": [
        "channing comrison\n"
      ]
    },
    {
      "cell_type": "code",
      "metadata": {
        "id": "WLSlG18EPGkR"
      },
      "source": [
        "x=3\n",
        "y=10"
      ],
      "execution_count": null,
      "outputs": []
    },
    {
      "cell_type": "code",
      "metadata": {
        "id": "cvBsFsndPOLJ",
        "outputId": "8ccd6c62-1a5e-4c7e-9828-634a9bd75571",
        "colab": {
          "base_uri": "https://localhost:8080/",
          "height": 34
        }
      },
      "source": [
        "1<=x <=5"
      ],
      "execution_count": 30,
      "outputs": [
        {
          "output_type": "execute_result",
          "data": {
            "text/plain": [
              "False"
            ]
          },
          "metadata": {
            "tags": []
          },
          "execution_count": 30
        }
      ]
    },
    {
      "cell_type": "code",
      "metadata": {
        "id": "wnKNsrIpUzwf",
        "outputId": "ec769b5a-db57-43bb-9d82-97f18eeeb43c",
        "colab": {
          "base_uri": "https://localhost:8080/",
          "height": 34
        }
      },
      "source": [
        "1>=y >5"
      ],
      "execution_count": 31,
      "outputs": [
        {
          "output_type": "execute_result",
          "data": {
            "text/plain": [
              "False"
            ]
          },
          "metadata": {
            "tags": []
          },
          "execution_count": 31
        }
      ]
    },
    {
      "cell_type": "markdown",
      "metadata": {
        "id": "DB5aRIcgVNCs"
      },
      "source": [
        "printing comma-sepatrated list"
      ]
    },
    {
      "cell_type": "code",
      "metadata": {
        "id": "8NS7X6AfWJF1",
        "outputId": "6a018dd2-b46b-43bf-971a-e836d0e73d65",
        "colab": {
          "base_uri": "https://localhost:8080/",
          "height": 34
        }
      },
      "source": [
        "print('welcome','to', 'python')"
      ],
      "execution_count": 32,
      "outputs": [
        {
          "output_type": "stream",
          "text": [
            "welcome to python\n"
          ],
          "name": "stdout"
        }
      ]
    },
    {
      "cell_type": "code",
      "metadata": {
        "id": "GxOwo_gdYLJj"
      },
      "source": [
        ""
      ],
      "execution_count": null,
      "outputs": []
    },
    {
      "cell_type": "markdown",
      "metadata": {
        "id": "BfRQrxSvYL2r"
      },
      "source": [
        "Printing Many Lines of text with one Statement"
      ]
    },
    {
      "cell_type": "code",
      "metadata": {
        "id": "eqa1b8E_Yuy5",
        "outputId": "f4d60db6-ed3b-4516-f36b-07d71a14dbdf",
        "colab": {
          "base_uri": "https://localhost:8080/",
          "height": 85
        }
      },
      "source": [
        "print('Welcome\\nto\\n\\nPython!')"
      ],
      "execution_count": 33,
      "outputs": [
        {
          "output_type": "stream",
          "text": [
            "Welcome\n",
            "to\n",
            "\n",
            "Python!\n"
          ],
          "name": "stdout"
        }
      ]
    },
    {
      "cell_type": "markdown",
      "metadata": {
        "id": "rI5E4r0pY5tN"
      },
      "source": [
        "Printing Many Lines of text with one Statement"
      ]
    },
    {
      "cell_type": "code",
      "metadata": {
        "id": "8Fv34x0KYuwk",
        "outputId": "a057e092-b308-4e01-e593-2cd8ca9ab545",
        "colab": {
          "base_uri": "https://localhost:8080/",
          "height": 85
        }
      },
      "source": [
        "print('Welcome\\nto\\n\\nPython!')"
      ],
      "execution_count": 34,
      "outputs": [
        {
          "output_type": "stream",
          "text": [
            "Welcome\n",
            "to\n",
            "\n",
            "Python!\n"
          ],
          "name": "stdout"
        }
      ]
    },
    {
      "cell_type": "markdown",
      "metadata": {
        "id": "8OmP7QKTZURE"
      },
      "source": [
        "Ignoring a line break in a long string"
      ]
    },
    {
      "cell_type": "code",
      "metadata": {
        "id": "vvxLcKGbZeci",
        "outputId": "a9ad2d2c-8d5b-448f-a321-901b4cee062e",
        "colab": {
          "base_uri": "https://localhost:8080/",
          "height": 34
        }
      },
      "source": [
        "print('this is a longer string, so we \\ split it over two lines;')"
      ],
      "execution_count": 37,
      "outputs": [
        {
          "output_type": "stream",
          "text": [
            "this is a longer string, so we \\ split it over two lines;\n"
          ],
          "name": "stdout"
        }
      ]
    },
    {
      "cell_type": "markdown",
      "metadata": {
        "id": "TMv-IqcnaAUd"
      },
      "source": [
        "Printing the value of an Expression"
      ]
    },
    {
      "cell_type": "code",
      "metadata": {
        "id": "5YxBYpa9aHEP",
        "outputId": "e77948d0-6172-46b1-e475-79b294c4b1e0",
        "colab": {
          "base_uri": "https://localhost:8080/",
          "height": 34
        }
      },
      "source": [
        "print('Sum is', 7+3)"
      ],
      "execution_count": 38,
      "outputs": [
        {
          "output_type": "stream",
          "text": [
            "Sum is 10\n"
          ],
          "name": "stdout"
        }
      ]
    },
    {
      "cell_type": "markdown",
      "metadata": {
        "id": "9t1cgL5FaNh2"
      },
      "source": [
        "What dose the following print statement display"
      ]
    },
    {
      "cell_type": "code",
      "metadata": {
        "id": "dwBxM6y2aSv0",
        "outputId": "bed17113-6b7a-4ca6-e496-f128f7a8afdf",
        "colab": {
          "base_uri": "https://localhost:8080/",
          "height": 34
        }
      },
      "source": [
        "print('int(5.2)','truncates 5.2 to',int(5.2))"
      ],
      "execution_count": 39,
      "outputs": [
        {
          "output_type": "stream",
          "text": [
            "int(5.2) truncates 5.2 to 5\n"
          ],
          "name": "stdout"
        }
      ]
    },
    {
      "cell_type": "code",
      "metadata": {
        "id": "JdlB6SMxabPn",
        "outputId": "254d29fb-93b6-44c3-ae98-ce27dc668d15",
        "colab": {
          "base_uri": "https://localhost:8080/",
          "height": 34
        }
      },
      "source": [
        "print('int(5.2)','truncates 5.2 to',int(5.2))"
      ],
      "execution_count": 40,
      "outputs": [
        {
          "output_type": "stream",
          "text": [
            "int(5.2) truncates 5.2 to 5\n"
          ],
          "name": "stdout"
        }
      ]
    },
    {
      "cell_type": "markdown",
      "metadata": {
        "id": "jnL1EC4aaffF"
      },
      "source": [
        "Including Wuotes in string"
      ]
    },
    {
      "cell_type": "code",
      "metadata": {
        "id": "xE8Lpcp2alHW",
        "outputId": "7930d351-b9fe-4959-dad8-d821a38212c6",
        "colab": {
          "base_uri": "https://localhost:8080/",
          "height": 34
        }
      },
      "source": [
        "print('Dispaly \"hi\" in quotes')"
      ],
      "execution_count": 41,
      "outputs": [
        {
          "output_type": "stream",
          "text": [
            "Dispaly \"hi\" in quotes\n"
          ],
          "name": "stdout"
        }
      ]
    },
    {
      "cell_type": "code",
      "metadata": {
        "id": "OGWiXeuwarFf",
        "outputId": "1bebc6e6-9efc-42e4-c8e5-5403b9a6265c",
        "colab": {
          "base_uri": "https://localhost:8080/",
          "height": 34
        }
      },
      "source": [
        "print('Dispaly \\'hi\\' in quotes') #using the \\' escape sequence;"
      ],
      "execution_count": 42,
      "outputs": [
        {
          "output_type": "stream",
          "text": [
            "Dispaly 'hi' in quotes\n"
          ],
          "name": "stdout"
        }
      ]
    },
    {
      "cell_type": "code",
      "metadata": {
        "id": "5XNbylsway7d",
        "outputId": "21d225cb-0987-4214-8dde-d9aaac76e00d",
        "colab": {
          "base_uri": "https://localhost:8080/",
          "height": 34
        }
      },
      "source": [
        "print(\"Dispaly the name 0' Brine\")"
      ],
      "execution_count": 43,
      "outputs": [
        {
          "output_type": "stream",
          "text": [
            "Dispaly the name 0' Brine\n"
          ],
          "name": "stdout"
        }
      ]
    },
    {
      "cell_type": "code",
      "metadata": {
        "id": "-jr6wDiea3wY",
        "outputId": "7506e429-2cc9-4551-9f51-93e16ae8c48d",
        "colab": {
          "base_uri": "https://localhost:8080/",
          "height": 34
        }
      },
      "source": [
        "print('Dispaly \\\"hi\\\" in quotes')"
      ],
      "execution_count": 44,
      "outputs": [
        {
          "output_type": "stream",
          "text": [
            "Dispaly \"hi\" in quotes\n"
          ],
          "name": "stdout"
        }
      ]
    },
    {
      "cell_type": "markdown",
      "metadata": {
        "id": "FieijQ0La734"
      },
      "source": [
        "void ' and \" use the template is triple quotes"
      ]
    },
    {
      "cell_type": "code",
      "metadata": {
        "id": "_4EFm5U0a_aH",
        "outputId": "5e050c83-7075-4490-cb47-31bc1197e76b",
        "colab": {
          "base_uri": "https://localhost:8080/",
          "height": 34
        }
      },
      "source": [
        "print(\"\"\"Dispaly \"hi\" and 'bye' in quotes\"\"\")"
      ],
      "execution_count": 45,
      "outputs": [
        {
          "output_type": "stream",
          "text": [
            "Dispaly \"hi\" and 'bye' in quotes\n"
          ],
          "name": "stdout"
        }
      ]
    },
    {
      "cell_type": "markdown",
      "metadata": {
        "id": "7RCdmzXGbK5h"
      },
      "source": [
        "Multiline string"
      ]
    },
    {
      "cell_type": "code",
      "metadata": {
        "id": "-_wLDWTjbO3z"
      },
      "source": [
        "triple_quoted_string = \"\"\" This is a triple-quoted\n",
        "  string that spans two lines\"\"\""
      ],
      "execution_count": 52,
      "outputs": []
    },
    {
      "cell_type": "code",
      "metadata": {
        "id": "O8Ut98Fkb346",
        "outputId": "b8383c9b-6079-430d-8910-e1ad9b9a97b6",
        "colab": {
          "base_uri": "https://localhost:8080/",
          "height": 51
        }
      },
      "source": [
        "print(triple_quoted_string)"
      ],
      "execution_count": 53,
      "outputs": [
        {
          "output_type": "stream",
          "text": [
            " This is a triple-quoted\n",
            "  string that spans two lines\n"
          ],
          "name": "stdout"
        }
      ]
    },
    {
      "cell_type": "code",
      "metadata": {
        "id": "U56Z_NlgcC5s",
        "outputId": "d805f6ba-0f74-4b04-8bcb-c53f132bca2d",
        "colab": {
          "base_uri": "https://localhost:8080/",
          "height": 35
        }
      },
      "source": [
        "triple_quoted_string"
      ],
      "execution_count": 54,
      "outputs": [
        {
          "output_type": "execute_result",
          "data": {
            "application/vnd.google.colaboratory.intrinsic+json": {
              "type": "string"
            },
            "text/plain": [
              "' This is a triple-quoted\\n  string that spans two lines'"
            ]
          },
          "metadata": {
            "tags": []
          },
          "execution_count": 54
        }
      ]
    },
    {
      "cell_type": "code",
      "metadata": {
        "id": "DedKAGHocKfD",
        "outputId": "c4a43214-be0b-4964-b64f-18f6c74a6075",
        "colab": {
          "base_uri": "https://localhost:8080/",
          "height": 85
        }
      },
      "source": [
        "print(\"\"\" This is a lengthy\n",
        "multiline string contining \n",
        "a few lines \\ \n",
        "of text\"\"\" )"
      ],
      "execution_count": 55,
      "outputs": [
        {
          "output_type": "stream",
          "text": [
            " This is a lengthy\n",
            "multiline string contining \n",
            "a few lines \\ \n",
            "of text\n"
          ],
          "name": "stdout"
        }
      ]
    },
    {
      "cell_type": "markdown",
      "metadata": {
        "id": "cUTw0PI2cP_R"
      },
      "source": [
        "Precision Handling in Python"
      ]
    },
    {
      "cell_type": "code",
      "metadata": {
        "id": "cgKSyq-ccTRg"
      },
      "source": [
        "a = 3.4536475856"
      ],
      "execution_count": 56,
      "outputs": []
    },
    {
      "cell_type": "code",
      "metadata": {
        "id": "KYR5zJFocYmK",
        "outputId": "b240da9d-79b0-46fd-fed4-5f7da05b1a4e",
        "colab": {
          "base_uri": "https://localhost:8080/",
          "height": 34
        }
      },
      "source": [
        "#using \"%\" to print value till 2 decimal places\n",
        "print(\"The value of number till 2 decimal place(using %) is : \",end=\"\")\n",
        "print('%.2f' %a)"
      ],
      "execution_count": 58,
      "outputs": [
        {
          "output_type": "stream",
          "text": [
            "The value of number till 2 decimal place(using %) is : 3.45\n"
          ],
          "name": "stdout"
        }
      ]
    },
    {
      "cell_type": "code",
      "metadata": {
        "id": "N3wFco-kcfWx",
        "outputId": "b1791517-5d0a-404c-e918-f1a902775df2",
        "colab": {
          "base_uri": "https://localhost:8080/",
          "height": 34
        }
      },
      "source": [
        "#using \"%\" to print value till 4 decimal places\n",
        "print(\"The value of number till 4 decimal place(using %) is : \",end=\"\")\n",
        "print('%.4f' %a)"
      ],
      "execution_count": 59,
      "outputs": [
        {
          "output_type": "stream",
          "text": [
            "The value of number till 4 decimal place(using %) is : 3.4536\n"
          ],
          "name": "stdout"
        }
      ]
    },
    {
      "cell_type": "markdown",
      "metadata": {
        "id": "EON4th2BclkE"
      },
      "source": [
        "Getting Input from the user"
      ]
    },
    {
      "cell_type": "code",
      "metadata": {
        "id": "KkhGU-e1c9qA"
      },
      "source": [
        "The built-in input function reqests and obtains users input:"
      ],
      "execution_count": null,
      "outputs": []
    },
    {
      "cell_type": "code",
      "metadata": {
        "id": "clRRdIJodGQ1",
        "outputId": "ad3df7ea-794d-495f-b2a9-e7d909dd00b5",
        "colab": {
          "base_uri": "https://localhost:8080/",
          "height": 34
        }
      },
      "source": [
        "print(name)"
      ],
      "execution_count": 63,
      "outputs": [
        {
          "output_type": "stream",
          "text": [
            "Farzana\n"
          ],
          "name": "stdout"
        }
      ]
    },
    {
      "cell_type": "code",
      "metadata": {
        "id": "3jhaelDpdZiA"
      },
      "source": [
        "value1 = input('Enter first number: ')\n",
        "value2 = input('Enter second number: ')"
      ],
      "execution_count": null,
      "outputs": []
    },
    {
      "cell_type": "code",
      "metadata": {
        "id": "KjynvzlYdgjC"
      },
      "source": [
        "total = value1 + value2\n",
        "print(total)"
      ],
      "execution_count": null,
      "outputs": []
    },
    {
      "cell_type": "code",
      "metadata": {
        "id": "o8-a-e8CdmNm"
      },
      "source": [
        "type(total) #python takes input as a string we have to type cast the input"
      ],
      "execution_count": null,
      "outputs": []
    },
    {
      "cell_type": "code",
      "metadata": {
        "id": "gcQCAIZjd2OA"
      },
      "source": [
        "total = int(value1) + int (value2) # type custing to int format\n",
        "print(total)"
      ],
      "execution_count": null,
      "outputs": []
    },
    {
      "cell_type": "code",
      "metadata": {
        "id": "xkyYOmY9ehQu"
      },
      "source": [
        "total = int(value1) + int (value2) # type custing to int format\n",
        "print(total)"
      ],
      "execution_count": null,
      "outputs": []
    },
    {
      "cell_type": "markdown",
      "metadata": {
        "id": "3xshULPdeOK7"
      },
      "source": [
        "Taking multiple input from the user"
      ]
    },
    {
      "cell_type": "code",
      "metadata": {
        "id": "nOOJLXuSeVx4"
      },
      "source": [
        "a,b = input().split()"
      ],
      "execution_count": null,
      "outputs": []
    },
    {
      "cell_type": "markdown",
      "metadata": {
        "id": "AgGWjMp1f82i"
      },
      "source": [
        "Solving Problem\n",
        "Determining the minimum and masimum with Built-in function min and max"
      ]
    },
    {
      "cell_type": "code",
      "metadata": {
        "id": "4TUh3zAPgEvv"
      },
      "source": [
        "In [ ]:\n",
        "number1 = int(input('Enter first integer: '))"
      ],
      "execution_count": null,
      "outputs": []
    },
    {
      "cell_type": "code",
      "metadata": {
        "id": "64v8N-AwgUdj"
      },
      "source": [
        "number2 = int(input('Enter second integer: '))"
      ],
      "execution_count": null,
      "outputs": []
    },
    {
      "cell_type": "code",
      "metadata": {
        "id": "lqnWQjDlgZED"
      },
      "source": [
        "number3 = int(input('Enter third integer: '))"
      ],
      "execution_count": null,
      "outputs": []
    },
    {
      "cell_type": "code",
      "metadata": {
        "id": "MKZrWGtsgd31"
      },
      "source": [
        "In [ ]:\n",
        "min(number1,number2,number3)"
      ],
      "execution_count": null,
      "outputs": []
    },
    {
      "cell_type": "code",
      "metadata": {
        "id": "Z6uai_SNgZBc"
      },
      "source": [
        "In [ ]:\n",
        "max(number1,number2,number3)\n",
        "In [ ]:"
      ],
      "execution_count": null,
      "outputs": []
    },
    {
      "cell_type": "markdown",
      "metadata": {
        "id": "2XNXaEYfkxkQ"
      },
      "source": [
        "exercise"
      ]
    },
    {
      "cell_type": "code",
      "metadata": {
        "id": "5baHKVJGg9en"
      },
      "source": [
        "x=2\n",
        "y=3"
      ],
      "execution_count": null,
      "outputs": []
    },
    {
      "cell_type": "code",
      "metadata": {
        "id": "CgNwahPshLSN"
      },
      "source": [
        "In [ ]:\n",
        "print('x =',x)"
      ],
      "execution_count": null,
      "outputs": []
    },
    {
      "cell_type": "code",
      "metadata": {
        "id": "RZzEo_e_hTjT"
      },
      "source": [
        "n [ ]:\n",
        "print('Value of',x,'+',x,'is',(x+x))"
      ],
      "execution_count": null,
      "outputs": []
    },
    {
      "cell_type": "code",
      "metadata": {
        "id": "hcPqiS_-hge7"
      },
      "source": [
        "In [ ]:\n",
        "print('x=')"
      ],
      "execution_count": null,
      "outputs": []
    },
    {
      "cell_type": "code",
      "metadata": {
        "id": "hMMxtRoEhljp"
      },
      "source": [
        "In [ ]:\n",
        "print((x+y),'=',(y+x))"
      ],
      "execution_count": null,
      "outputs": []
    },
    {
      "cell_type": "code",
      "metadata": {
        "id": "fc7ZKXZzhgci"
      },
      "source": [
        ""
      ],
      "execution_count": null,
      "outputs": []
    }
  ]
}