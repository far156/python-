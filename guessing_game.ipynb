{
  "nbformat": 4,
  "nbformat_minor": 0,
  "metadata": {
    "colab": {
      "name": "guessing game.ipynb",
      "provenance": [],
      "authorship_tag": "ABX9TyNAZtxzTushtkeh6XIAmTIM",
      "include_colab_link": true
    },
    "kernelspec": {
      "name": "python3",
      "display_name": "Python 3"
    }
  },
  "cells": [
    {
      "cell_type": "markdown",
      "metadata": {
        "id": "view-in-github",
        "colab_type": "text"
      },
      "source": [
        "<a href=\"https://colab.research.google.com/github/far156/python-/blob/master/guessing_game.ipynb\" target=\"_parent\"><img src=\"https://colab.research.google.com/assets/colab-badge.svg\" alt=\"Open In Colab\"/></a>"
      ]
    },
    {
      "cell_type": "code",
      "metadata": {
        "id": "oH3HvFZv0waz"
      },
      "source": [
        ""
      ],
      "execution_count": null,
      "outputs": []
    },
    {
      "cell_type": "code",
      "metadata": {
        "colab": {
          "base_uri": "https://localhost:8080/"
        },
        "id": "IYAd3awd0wcM",
        "outputId": "3a8f5eb3-699b-4859-8674-3fdcd8d41368"
      },
      "source": [
        "# random module to generate random numbers\n",
        "import random\n",
        "\n",
        "# generate a random number\n",
        "secret_number = random.randint(1, 20)\n",
        "\n",
        "chances_left = 5\n",
        "\n",
        "print(\"Hey there! Guess a number b/w 1 to 20 which I am thinking of: \")\n",
        "\n",
        "for i in range(1, 6):\n",
        "\n",
        "  guess = int(input(\"Take a guess: \"))\n",
        "  \n",
        "  if guess < secret_number:\n",
        "    print(\"Guess is too low!\")\n",
        "  elif guess > secret_number:\n",
        "    print(\"Guess is too high!\")\n",
        "  else:\n",
        "    \n",
        "    break\n",
        "\n",
        "\n",
        "  chances_left = chances_left - 1\n",
        "  print(\"Chances Left: \" + str(chances_left))\n",
        "\n",
        "\n",
        "if guess == secret_number:\n",
        "  print(\"You guessed it right!\")\n",
        "else:\n",
        "  print(\"You lose!\")\n",
        "  print(\"The number I thought was \" + str(secret_number))"
      ],
      "execution_count": null,
      "outputs": [
        {
          "output_type": "stream",
          "text": [
            "Hey there! Guess a number b/w 1 to 20 which I am thinking of: \n",
            "Take a guess: 2\n",
            "Guess is too low!\n",
            "Chances Left: 4\n",
            "Take a guess: 3\n",
            "You guessed it right!\n"
          ],
          "name": "stdout"
        }
      ]
    }
  ]
}